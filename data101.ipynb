{
 "cells": [
  {
   "cell_type": "markdown",
   "metadata": {
    "colab_type": "text",
    "id": "RXterq-M5I60"
   },
   "source": [
    "# Data preparation\n",
    "\n",
    "Jadi sebelum melakukan _Modeling_ atau malah sebelum milih2 fitur(_feature selection/feature engineering_) kalian harus banget _\"Kenal\"_ sama data yang akan kalian proses, supaya nantinya kalian tau mau ngapain. Nah kalo udah kenal, kalian harus proses datanya, supaya nanti bisa dipakai di _model_ atau menghasilkan _model_ yang bagus."
   ]
  },
  {
   "cell_type": "code",
   "execution_count": 1,
   "metadata": {
    "colab": {},
    "colab_type": "code",
    "id": "x658kmxP5I69"
   },
   "outputs": [],
   "source": [
    "import numpy as np \n",
    "import pandas as pd\n",
    "import matplotlib as mpl\n",
    "import seaborn as sns\n",
    "sns.set_style(\"whitegrid\")\n",
    "import matplotlib.pyplot as plt\n",
    "%matplotlib inline\n",
    "\n",
    "mpl.rcParams['figure.dpi'] = 120"
   ]
  },
  {
   "cell_type": "markdown",
   "metadata": {},
   "source": [
    "Yang pertama jelas import datanya"
   ]
  },
  {
   "cell_type": "code",
   "execution_count": 2,
   "metadata": {
    "colab": {
     "base_uri": "https://localhost:8080/",
     "height": 34
    },
    "colab_type": "code",
    "executionInfo": {
     "elapsed": 1797,
     "status": "ok",
     "timestamp": 1579573703427,
     "user": {
      "displayName": "Ade Romadhony",
      "photoUrl": "",
      "userId": "13608730481408932644"
     },
     "user_tz": -420
    },
    "id": "EHx5mjmu5I7Q",
    "outputId": "9d6bdcbb-acd1-477a-d603-5e3e0f802a88"
   },
   "outputs": [
    {
     "data": {
      "text/plain": [
       "(1000, 11)"
      ]
     },
     "execution_count": 2,
     "metadata": {},
     "output_type": "execute_result"
    }
   ],
   "source": [
    "df = pd.read_excel('students_record_2.xlsx')\n",
    "df.shape"
   ]
  },
  {
   "cell_type": "markdown",
   "metadata": {},
   "source": [
    "Mari intip dikit datanya"
   ]
  },
  {
   "cell_type": "code",
   "execution_count": 3,
   "metadata": {
    "colab": {
     "base_uri": "https://localhost:8080/",
     "height": 257
    },
    "colab_type": "code",
    "executionInfo": {
     "elapsed": 879,
     "status": "ok",
     "timestamp": 1579573716051,
     "user": {
      "displayName": "Ade Romadhony",
      "photoUrl": "",
      "userId": "13608730481408932644"
     },
     "user_tz": -420
    },
    "id": "9kMcSEd_5I7e",
    "outputId": "819e123f-1a39-4641-bc37-85b29665c213"
   },
   "outputs": [
    {
     "data": {
      "text/html": [
       "<div>\n",
       "<style scoped>\n",
       "    .dataframe tbody tr th:only-of-type {\n",
       "        vertical-align: middle;\n",
       "    }\n",
       "\n",
       "    .dataframe tbody tr th {\n",
       "        vertical-align: top;\n",
       "    }\n",
       "\n",
       "    .dataframe thead th {\n",
       "        text-align: right;\n",
       "    }\n",
       "</style>\n",
       "<table border=\"1\" class=\"dataframe\">\n",
       "  <thead>\n",
       "    <tr style=\"text-align: right;\">\n",
       "      <th></th>\n",
       "      <th>Unnamed: 0</th>\n",
       "      <th>gender</th>\n",
       "      <th>height</th>\n",
       "      <th>weight</th>\n",
       "      <th>scholarship</th>\n",
       "      <th>pre-requisite 1</th>\n",
       "      <th>pre-requisite 2</th>\n",
       "      <th>presence</th>\n",
       "      <th>average study time</th>\n",
       "      <th>mid exam score</th>\n",
       "      <th>is_pass</th>\n",
       "    </tr>\n",
       "  </thead>\n",
       "  <tbody>\n",
       "    <tr>\n",
       "      <th>0</th>\n",
       "      <td>0</td>\n",
       "      <td>M</td>\n",
       "      <td>174</td>\n",
       "      <td>62.0</td>\n",
       "      <td>No</td>\n",
       "      <td>A</td>\n",
       "      <td>BC</td>\n",
       "      <td>100.00</td>\n",
       "      <td>5</td>\n",
       "      <td>85.0</td>\n",
       "      <td>1</td>\n",
       "    </tr>\n",
       "    <tr>\n",
       "      <th>1</th>\n",
       "      <td>1</td>\n",
       "      <td>F</td>\n",
       "      <td>161</td>\n",
       "      <td>63.0</td>\n",
       "      <td>No</td>\n",
       "      <td>C</td>\n",
       "      <td>B</td>\n",
       "      <td>100.00</td>\n",
       "      <td>1</td>\n",
       "      <td>9.0</td>\n",
       "      <td>0</td>\n",
       "    </tr>\n",
       "    <tr>\n",
       "      <th>2</th>\n",
       "      <td>2</td>\n",
       "      <td>F</td>\n",
       "      <td>167</td>\n",
       "      <td>72.0</td>\n",
       "      <td>No</td>\n",
       "      <td>B</td>\n",
       "      <td>B</td>\n",
       "      <td>100.00</td>\n",
       "      <td>5</td>\n",
       "      <td>75.0</td>\n",
       "      <td>1</td>\n",
       "    </tr>\n",
       "    <tr>\n",
       "      <th>3</th>\n",
       "      <td>3</td>\n",
       "      <td>M</td>\n",
       "      <td>170</td>\n",
       "      <td>57.0</td>\n",
       "      <td>No</td>\n",
       "      <td>B</td>\n",
       "      <td>B</td>\n",
       "      <td>71.42</td>\n",
       "      <td>0</td>\n",
       "      <td>0.0</td>\n",
       "      <td>0</td>\n",
       "    </tr>\n",
       "    <tr>\n",
       "      <th>4</th>\n",
       "      <td>4</td>\n",
       "      <td>F</td>\n",
       "      <td>170</td>\n",
       "      <td>61.0</td>\n",
       "      <td>No</td>\n",
       "      <td>B</td>\n",
       "      <td>AB</td>\n",
       "      <td>57.14</td>\n",
       "      <td>4</td>\n",
       "      <td>64.0</td>\n",
       "      <td>1</td>\n",
       "    </tr>\n",
       "    <tr>\n",
       "      <th>5</th>\n",
       "      <td>5</td>\n",
       "      <td>F</td>\n",
       "      <td>148</td>\n",
       "      <td>64.0</td>\n",
       "      <td>No</td>\n",
       "      <td>B</td>\n",
       "      <td>A</td>\n",
       "      <td>100.00</td>\n",
       "      <td>1</td>\n",
       "      <td>11.0</td>\n",
       "      <td>0</td>\n",
       "    </tr>\n",
       "    <tr>\n",
       "      <th>6</th>\n",
       "      <td>6</td>\n",
       "      <td>F</td>\n",
       "      <td>164</td>\n",
       "      <td>68.0</td>\n",
       "      <td>No</td>\n",
       "      <td>A</td>\n",
       "      <td>A</td>\n",
       "      <td>100.00</td>\n",
       "      <td>9</td>\n",
       "      <td>98.0</td>\n",
       "      <td>1</td>\n",
       "    </tr>\n",
       "    <tr>\n",
       "      <th>7</th>\n",
       "      <td>7</td>\n",
       "      <td>F</td>\n",
       "      <td>157</td>\n",
       "      <td>55.0</td>\n",
       "      <td>No</td>\n",
       "      <td>A</td>\n",
       "      <td>AB</td>\n",
       "      <td>85.71</td>\n",
       "      <td>5</td>\n",
       "      <td>76.0</td>\n",
       "      <td>1</td>\n",
       "    </tr>\n",
       "    <tr>\n",
       "      <th>8</th>\n",
       "      <td>8</td>\n",
       "      <td>F</td>\n",
       "      <td>156</td>\n",
       "      <td>80.0</td>\n",
       "      <td>Yes</td>\n",
       "      <td>A</td>\n",
       "      <td>B</td>\n",
       "      <td>100.00</td>\n",
       "      <td>8</td>\n",
       "      <td>76.0</td>\n",
       "      <td>1</td>\n",
       "    </tr>\n",
       "    <tr>\n",
       "      <th>9</th>\n",
       "      <td>9</td>\n",
       "      <td>F</td>\n",
       "      <td>165</td>\n",
       "      <td>59.0</td>\n",
       "      <td>No</td>\n",
       "      <td>AB</td>\n",
       "      <td>A</td>\n",
       "      <td>100.00</td>\n",
       "      <td>4</td>\n",
       "      <td>62.0</td>\n",
       "      <td>0</td>\n",
       "    </tr>\n",
       "  </tbody>\n",
       "</table>\n",
       "</div>"
      ],
      "text/plain": [
       "   Unnamed: 0 gender  height  weight scholarship pre-requisite 1  \\\n",
       "0           0      M     174    62.0          No               A   \n",
       "1           1      F     161    63.0          No               C   \n",
       "2           2      F     167    72.0          No               B   \n",
       "3           3      M     170    57.0          No               B   \n",
       "4           4      F     170    61.0          No               B   \n",
       "5           5      F     148    64.0          No               B   \n",
       "6           6      F     164    68.0          No               A   \n",
       "7           7      F     157    55.0          No               A   \n",
       "8           8      F     156    80.0         Yes               A   \n",
       "9           9      F     165    59.0          No              AB   \n",
       "\n",
       "  pre-requisite 2  presence  average study time  mid exam score  is_pass  \n",
       "0              BC    100.00                   5            85.0        1  \n",
       "1               B    100.00                   1             9.0        0  \n",
       "2               B    100.00                   5            75.0        1  \n",
       "3               B     71.42                   0             0.0        0  \n",
       "4              AB     57.14                   4            64.0        1  \n",
       "5               A    100.00                   1            11.0        0  \n",
       "6               A    100.00                   9            98.0        1  \n",
       "7              AB     85.71                   5            76.0        1  \n",
       "8               B    100.00                   8            76.0        1  \n",
       "9               A    100.00                   4            62.0        0  "
      ]
     },
     "execution_count": 3,
     "metadata": {},
     "output_type": "execute_result"
    }
   ],
   "source": [
    "df.head(10)"
   ]
  },
  {
   "cell_type": "code",
   "execution_count": 4,
   "metadata": {},
   "outputs": [
    {
     "data": {
      "text/html": [
       "<div>\n",
       "<style scoped>\n",
       "    .dataframe tbody tr th:only-of-type {\n",
       "        vertical-align: middle;\n",
       "    }\n",
       "\n",
       "    .dataframe tbody tr th {\n",
       "        vertical-align: top;\n",
       "    }\n",
       "\n",
       "    .dataframe thead th {\n",
       "        text-align: right;\n",
       "    }\n",
       "</style>\n",
       "<table border=\"1\" class=\"dataframe\">\n",
       "  <thead>\n",
       "    <tr style=\"text-align: right;\">\n",
       "      <th></th>\n",
       "      <th>Unnamed: 0</th>\n",
       "      <th>height</th>\n",
       "      <th>weight</th>\n",
       "      <th>presence</th>\n",
       "      <th>average study time</th>\n",
       "      <th>mid exam score</th>\n",
       "      <th>is_pass</th>\n",
       "    </tr>\n",
       "  </thead>\n",
       "  <tbody>\n",
       "    <tr>\n",
       "      <th>count</th>\n",
       "      <td>1000.000000</td>\n",
       "      <td>1000.000000</td>\n",
       "      <td>997.000000</td>\n",
       "      <td>1000.000000</td>\n",
       "      <td>1000.000000</td>\n",
       "      <td>996.000000</td>\n",
       "      <td>1000.000000</td>\n",
       "    </tr>\n",
       "    <tr>\n",
       "      <th>mean</th>\n",
       "      <td>499.500000</td>\n",
       "      <td>160.446000</td>\n",
       "      <td>64.752257</td>\n",
       "      <td>73.938940</td>\n",
       "      <td>4.411000</td>\n",
       "      <td>51.723896</td>\n",
       "      <td>0.555000</td>\n",
       "    </tr>\n",
       "    <tr>\n",
       "      <th>std</th>\n",
       "      <td>288.819436</td>\n",
       "      <td>8.583867</td>\n",
       "      <td>9.240963</td>\n",
       "      <td>24.926219</td>\n",
       "      <td>2.544121</td>\n",
       "      <td>24.111197</td>\n",
       "      <td>0.497214</td>\n",
       "    </tr>\n",
       "    <tr>\n",
       "      <th>min</th>\n",
       "      <td>0.000000</td>\n",
       "      <td>145.000000</td>\n",
       "      <td>40.000000</td>\n",
       "      <td>14.280000</td>\n",
       "      <td>0.000000</td>\n",
       "      <td>0.000000</td>\n",
       "      <td>0.000000</td>\n",
       "    </tr>\n",
       "    <tr>\n",
       "      <th>25%</th>\n",
       "      <td>249.750000</td>\n",
       "      <td>154.000000</td>\n",
       "      <td>59.000000</td>\n",
       "      <td>57.140000</td>\n",
       "      <td>2.000000</td>\n",
       "      <td>35.000000</td>\n",
       "      <td>0.000000</td>\n",
       "    </tr>\n",
       "    <tr>\n",
       "      <th>50%</th>\n",
       "      <td>499.500000</td>\n",
       "      <td>160.000000</td>\n",
       "      <td>64.000000</td>\n",
       "      <td>85.710000</td>\n",
       "      <td>4.000000</td>\n",
       "      <td>56.000000</td>\n",
       "      <td>1.000000</td>\n",
       "    </tr>\n",
       "    <tr>\n",
       "      <th>75%</th>\n",
       "      <td>749.250000</td>\n",
       "      <td>167.000000</td>\n",
       "      <td>71.000000</td>\n",
       "      <td>100.000000</td>\n",
       "      <td>6.000000</td>\n",
       "      <td>69.000000</td>\n",
       "      <td>1.000000</td>\n",
       "    </tr>\n",
       "    <tr>\n",
       "      <th>max</th>\n",
       "      <td>999.000000</td>\n",
       "      <td>204.000000</td>\n",
       "      <td>89.000000</td>\n",
       "      <td>100.000000</td>\n",
       "      <td>10.000000</td>\n",
       "      <td>100.000000</td>\n",
       "      <td>1.000000</td>\n",
       "    </tr>\n",
       "  </tbody>\n",
       "</table>\n",
       "</div>"
      ],
      "text/plain": [
       "        Unnamed: 0       height      weight     presence  average study time  \\\n",
       "count  1000.000000  1000.000000  997.000000  1000.000000         1000.000000   \n",
       "mean    499.500000   160.446000   64.752257    73.938940            4.411000   \n",
       "std     288.819436     8.583867    9.240963    24.926219            2.544121   \n",
       "min       0.000000   145.000000   40.000000    14.280000            0.000000   \n",
       "25%     249.750000   154.000000   59.000000    57.140000            2.000000   \n",
       "50%     499.500000   160.000000   64.000000    85.710000            4.000000   \n",
       "75%     749.250000   167.000000   71.000000   100.000000            6.000000   \n",
       "max     999.000000   204.000000   89.000000   100.000000           10.000000   \n",
       "\n",
       "       mid exam score      is_pass  \n",
       "count      996.000000  1000.000000  \n",
       "mean        51.723896     0.555000  \n",
       "std         24.111197     0.497214  \n",
       "min          0.000000     0.000000  \n",
       "25%         35.000000     0.000000  \n",
       "50%         56.000000     1.000000  \n",
       "75%         69.000000     1.000000  \n",
       "max        100.000000     1.000000  "
      ]
     },
     "execution_count": 4,
     "metadata": {},
     "output_type": "execute_result"
    }
   ],
   "source": [
    "df.describe()"
   ]
  },
  {
   "cell_type": "code",
   "execution_count": 5,
   "metadata": {},
   "outputs": [
    {
     "data": {
      "text/plain": [
       "Index(['Unnamed: 0', 'gender', 'height', 'weight', 'scholarship',\n",
       "       'pre-requisite 1', 'pre-requisite 2', 'presence', 'average study time',\n",
       "       'mid exam score', 'is_pass'],\n",
       "      dtype='object')"
      ]
     },
     "execution_count": 5,
     "metadata": {},
     "output_type": "execute_result"
    }
   ],
   "source": [
    "df.columns"
   ]
  },
  {
   "cell_type": "markdown",
   "metadata": {},
   "source": [
    "Kalo kalian liat di baris `count` ada yang jumlah datanya kurang dari `1000` berarti masih ada data yang kosong(NaN), ini harus kita _handle_ entah itu di`drop` datanya atau diisi nantinya. Nah disini akan kita coba buat isi datanya."
   ]
  },
  {
   "cell_type": "markdown",
   "metadata": {},
   "source": [
    "## Handling Missing Data\n",
    "\n",
    "Sebenernya kenapa sih data kosong itu harus diisi? ya simpel,\n",
    "\n",
    "![error wkw](assets/img/err.jpg)\n",
    "\n",
    "salah satunya bikin error wkw.\n",
    "\n",
    "Kita coba liat data kosongnya pake visualisasi"
   ]
  },
  {
   "cell_type": "code",
   "execution_count": 6,
   "metadata": {},
   "outputs": [
    {
     "data": {
      "image/png": "[encoded data removed]",
      "text/plain": [
       "<Figure size 1200x720 with 1 Axes>"
      ]
     },
     "metadata": {
      "needs_background": "light"
     },
     "output_type": "display_data"
    }
   ],
   "source": [
    "nan_percentage = df.isnull().sum().sort_values(ascending=False) / df.shape[0]\n",
    "missing_val = nan_percentage[nan_percentage > 0]\n",
    "\n",
    "plt.figure(figsize=(10,6))\n",
    "sns.barplot(x=missing_val.index.values, y=missing_val.values * 100, palette=\"Reds_r\");\n",
    "plt.title(\"Percentage of missing values in data\");\n",
    "plt.ylabel(\"%\");\n",
    "plt.xticks(rotation=45);"
   ]
  },
  {
   "cell_type": "code",
   "execution_count": 7,
   "metadata": {},
   "outputs": [
    {
     "data": {
      "text/plain": [
       "Unnamed: 0            0\n",
       "gender                0\n",
       "height                0\n",
       "weight                3\n",
       "scholarship           0\n",
       "pre-requisite 1       0\n",
       "pre-requisite 2       0\n",
       "presence              0\n",
       "average study time    0\n",
       "mid exam score        4\n",
       "is_pass               0\n",
       "dtype: int64"
      ]
     },
     "execution_count": 7,
     "metadata": {},
     "output_type": "execute_result"
    }
   ],
   "source": [
    "df.isnull().sum()"
   ]
  },
  {
   "cell_type": "markdown",
   "metadata": {},
   "source": [
    "Bisa diliat kalo `mid exam score` punya 4 data kosong dan `weight` punya 3 data kosong\n",
    "\n",
    "Boleh diisi semua data menggunakan nilai 0\n",
    "\n",
    "`df.fillna(0,inplace=True)`\n",
    "\n",
    "Atau boleh pake asumsi kaya gini...\n",
    "\n",
    "Nilai UTS NaN berarti dia gaikut UTS dong, boleh kita isi pake 0. Trus Berat badan nih, masa berat badan orang 0 sih ? bisa diisi pake rata2 semua mahasiswa\n",
    "\n",
    "nah kita pake yang pertama aja biar gampang wkwkw"
   ]
  },
  {
   "cell_type": "code",
   "execution_count": 8,
   "metadata": {},
   "outputs": [],
   "source": [
    "df.fillna(0,inplace=True) # ISI SEMUA DATA KOSONG PAKE 0, bodo amat pokoknya 0 wkw"
   ]
  },
  {
   "cell_type": "code",
   "execution_count": 9,
   "metadata": {},
   "outputs": [
    {
     "data": {
      "text/plain": [
       "Unnamed: 0            0\n",
       "gender                0\n",
       "height                0\n",
       "weight                0\n",
       "scholarship           0\n",
       "pre-requisite 1       0\n",
       "pre-requisite 2       0\n",
       "presence              0\n",
       "average study time    0\n",
       "mid exam score        0\n",
       "is_pass               0\n",
       "dtype: int64"
      ]
     },
     "execution_count": 9,
     "metadata": {},
     "output_type": "execute_result"
    }
   ],
   "source": [
    "df.isnull().sum()"
   ]
  },
  {
   "cell_type": "markdown",
   "metadata": {},
   "source": [
    "Nah data kosong udah keisi semua."
   ]
  },
  {
   "cell_type": "markdown",
   "metadata": {
    "colab": {
     "base_uri": "https://localhost:8080/",
     "height": 34
    },
    "colab_type": "code",
    "executionInfo": {
     "elapsed": 896,
     "status": "ok",
     "timestamp": 1579573917344,
     "user": {
      "displayName": "Ade Romadhony",
      "photoUrl": "",
      "userId": "13608730481408932644"
     },
     "user_tz": -420
    },
    "id": "pAU99c5t5I9m",
    "outputId": "5b2d6392-1323-4987-9e9a-87dbf43d45bb"
   },
   "source": [
    "## Ouliers handling\n",
    "\n",
    "Data outliers bisa ganggu _model/algorithm_ yang kita pakai, contohnya di regresi linear.\n",
    "yang harusnya \"mungkin\" garisnya bagus kaya gini\n",
    "![bagus](assets/img/gini.png)\n",
    "\n",
    "Eh jadi kaya gini\n",
    "\n",
    "![jelek](assets/img/jadigini.png)\n",
    "\n",
    "Outliers ini akan mempengaruhi model yang akan kita buat.\n",
    "\n",
    "Salah satu cara untuk melihat outlier di data kita adalah dengan boxplot data kita\n",
    "(Bisa di plot biasa aja sih, tapi kita coba pake boxplot)"
   ]
  },
  {
   "cell_type": "code",
   "execution_count": 10,
   "metadata": {
    "colab": {
     "base_uri": "https://localhost:8080/",
     "height": 859
    },
    "colab_type": "code",
    "executionInfo": {
     "elapsed": 2043,
     "status": "ok",
     "timestamp": 1579573822021,
     "user": {
      "displayName": "Ade Romadhony",
      "photoUrl": "",
      "userId": "13608730481408932644"
     },
     "user_tz": -420
    },
    "id": "c-S7gBKy5I8N",
    "outputId": "e18735ab-2e6c-4542-ea13-391049c2e789"
   },
   "outputs": [
    {
     "data": {
      "text/plain": [
       "<Figure size 7200x7200 with 0 Axes>"
      ]
     },
     "metadata": {},
     "output_type": "display_data"
    },
    {
     "data": {
      "image/png": "[encoded data removed]",
      "text/plain": [
       "<Figure size 720x480 with 4 Axes>"
      ]
     },
     "metadata": {
      "needs_background": "light"
     },
     "output_type": "display_data"
    }
   ],
   "source": [
    "plt.figure(figsize=(60, 60))\n",
    "f, axes = plt.subplots(1, 4)\n",
    "sns.boxplot(y=df[\"height\"], ax=axes[0])\n",
    "sns.boxplot(y=df[\"weight\"], ax=axes[1])\n",
    "sns.boxplot(y=df[\"average study time\"], ax=axes[2])\n",
    "sns.boxplot(y=df[\"mid exam score\"], ax=axes[3])\n",
    "plt.subplots_adjust(wspace=1)"
   ]
  },
  {
   "cell_type": "markdown",
   "metadata": {},
   "source": [
    "![outliers](assets/img/out.jpg)\n",
    "\n",
    "Nah yang buletan itu outliers.\n",
    "\n",
    "### Removing outliers using quantile 95\n",
    "\n",
    "Cara buat ngilangin outliers ada banyak, bisa di baca2 disini\n",
    "https://towardsdatascience.com/ways-to-detect-and-remove-the-outliers-404d16608dba\n",
    "\n",
    "nah kita bakal coba ngilanin data outliersnya pake quantile 95"
   ]
  },
  {
   "cell_type": "code",
   "execution_count": 11,
   "metadata": {},
   "outputs": [],
   "source": [
    "qt_95 = df['height'].quantile(0.95)\n",
    "df_no_outliers = df[df['height'] <  qt_95]"
   ]
  },
  {
   "cell_type": "code",
   "execution_count": 12,
   "metadata": {},
   "outputs": [
    {
     "data": {
      "text/plain": [
       "<Figure size 7200x7200 with 0 Axes>"
      ]
     },
     "metadata": {},
     "output_type": "display_data"
    },
    {
     "data": {
      "image/png": "[encoded data removed]",
      "text/plain": [
       "<Figure size 720x480 with 4 Axes>"
      ]
     },
     "metadata": {
      "needs_background": "light"
     },
     "output_type": "display_data"
    }
   ],
   "source": [
    "plt.figure(figsize=(60, 60))\n",
    "f, axes = plt.subplots(1, 4)\n",
    "sns.boxplot(y=df_no_outliers[\"height\"], ax=axes[0])\n",
    "sns.boxplot(y=df_no_outliers[\"weight\"], ax=axes[1])\n",
    "sns.boxplot(y=df_no_outliers[\"average study time\"], ax=axes[2])\n",
    "sns.boxplot(y=df_no_outliers[\"mid exam score\"], ax=axes[3])\n",
    "plt.subplots_adjust(wspace=1)"
   ]
  },
  {
   "cell_type": "markdown",
   "metadata": {},
   "source": [
    "Nah, mendingan kan\n",
    "\n",
    "Sekarang kita coba, implementasi regresi linear(materi minggu kemaren) pake data yang udah kita bersihin nih\n",
    "\n",
    "kita coba liat relasi/hubungan antara `average study time` dan `mid exam score`."
   ]
  },
  {
   "cell_type": "code",
   "execution_count": 13,
   "metadata": {
    "colab": {},
    "colab_type": "code",
    "id": "Ip2KQ_NW5I9w"
   },
   "outputs": [],
   "source": [
    "from sklearn.linear_model import LinearRegression\n",
    "from sklearn.model_selection import train_test_split "
   ]
  },
  {
   "cell_type": "code",
   "execution_count": 14,
   "metadata": {},
   "outputs": [
    {
     "data": {
      "text/plain": [
       "((949, 1), (949,))"
      ]
     },
     "execution_count": 14,
     "metadata": {},
     "output_type": "execute_result"
    }
   ],
   "source": [
    "X = df_no_outliers[['average study time']]\n",
    "y = np.ravel(df_no_outliers[['mid exam score']])\n",
    "X.shape,y.shape"
   ]
  },
  {
   "cell_type": "markdown",
   "metadata": {},
   "source": [
    "Datanya makin dikit yak `1000` jadi `949`"
   ]
  },
  {
   "cell_type": "code",
   "execution_count": 15,
   "metadata": {},
   "outputs": [
    {
     "data": {
      "text/plain": [
       "<matplotlib.collections.PathCollection at 0x126cd009a08>"
      ]
     },
     "execution_count": 15,
     "metadata": {},
     "output_type": "execute_result"
    },
    {
     "data": {
      "image/png": "[encoded data removed]",
      "text/plain": [
       "<Figure size 720x480 with 1 Axes>"
      ]
     },
     "metadata": {
      "needs_background": "light"
     },
     "output_type": "display_data"
    }
   ],
   "source": [
    "plt.scatter(X,y)"
   ]
  },
  {
   "cell_type": "code",
   "execution_count": 16,
   "metadata": {},
   "outputs": [],
   "source": [
    "X_train, X_test, y_train, y_test = train_test_split(X, y, test_size=0.2, random_state=69 ) #nice"
   ]
  },
  {
   "cell_type": "code",
   "execution_count": 17,
   "metadata": {},
   "outputs": [
    {
     "data": {
      "text/plain": [
       "LinearRegression(copy_X=True, fit_intercept=True, n_jobs=None, normalize=False)"
      ]
     },
     "execution_count": 17,
     "metadata": {},
     "output_type": "execute_result"
    }
   ],
   "source": [
    "regressor = LinearRegression()\n",
    "regressor.fit(X_train, y_train)"
   ]
  },
  {
   "cell_type": "code",
   "execution_count": 18,
   "metadata": {},
   "outputs": [],
   "source": [
    "y_pred = regressor.predict(X_test)"
   ]
  },
  {
   "cell_type": "code",
   "execution_count": 19,
   "metadata": {},
   "outputs": [
    {
     "data": {
      "image/png": "[encoded data removed]",
      "text/plain": [
       "<Figure size 720x480 with 1 Axes>"
      ]
     },
     "metadata": {
      "needs_background": "light"
     },
     "output_type": "display_data"
    }
   ],
   "source": [
    "plt.scatter(X_test, y_test,  color='gray')\n",
    "plt.plot(X_test, y_pred, color='red', linewidth=2)\n",
    "plt.show()"
   ]
  },
  {
   "cell_type": "code",
   "execution_count": 20,
   "metadata": {},
   "outputs": [
    {
     "data": {
      "text/plain": [
       "0.8337661502723639"
      ]
     },
     "execution_count": 20,
     "metadata": {},
     "output_type": "execute_result"
    }
   ],
   "source": [
    "regressor.score(X_test,y_test) # R2 score"
   ]
  },
  {
   "cell_type": "markdown",
   "metadata": {},
   "source": [
    "#### Without outliers handling\n",
    "\n",
    "Nah coba kita bandingin datanya dengan tanpa outliers handling"
   ]
  },
  {
   "cell_type": "code",
   "execution_count": 21,
   "metadata": {},
   "outputs": [
    {
     "data": {
      "text/plain": [
       "((1000, 1), (1000,))"
      ]
     },
     "execution_count": 21,
     "metadata": {},
     "output_type": "execute_result"
    }
   ],
   "source": [
    "X = df[['average study time']]\n",
    "y = np.ravel(df[['mid exam score']])\n",
    "X.shape,y.shape"
   ]
  },
  {
   "cell_type": "code",
   "execution_count": 22,
   "metadata": {},
   "outputs": [
    {
     "data": {
      "text/plain": [
       "<matplotlib.collections.PathCollection at 0x126cd25e388>"
      ]
     },
     "execution_count": 22,
     "metadata": {},
     "output_type": "execute_result"
    },
    {
     "data": {
      "image/png": "[encoded data removed]",
      "text/plain": [
       "<Figure size 720x480 with 1 Axes>"
      ]
     },
     "metadata": {
      "needs_background": "light"
     },
     "output_type": "display_data"
    }
   ],
   "source": [
    "plt.scatter(X,y)"
   ]
  },
  {
   "cell_type": "code",
   "execution_count": 23,
   "metadata": {},
   "outputs": [],
   "source": [
    "X_train, X_test, y_train, y_test = train_test_split(X, y, test_size=0.2, random_state=69 ) #nice"
   ]
  },
  {
   "cell_type": "code",
   "execution_count": 24,
   "metadata": {},
   "outputs": [
    {
     "data": {
      "text/plain": [
       "LinearRegression(copy_X=True, fit_intercept=True, n_jobs=None, normalize=False)"
      ]
     },
     "execution_count": 24,
     "metadata": {},
     "output_type": "execute_result"
    }
   ],
   "source": [
    "regressor2 = LinearRegression()\n",
    "regressor2.fit(X_train, y_train)"
   ]
  },
  {
   "cell_type": "code",
   "execution_count": 25,
   "metadata": {},
   "outputs": [],
   "source": [
    "y_pred = regressor2.predict(X_test)"
   ]
  },
  {
   "cell_type": "code",
   "execution_count": 26,
   "metadata": {},
   "outputs": [
    {
     "data": {
      "image/png": "[encoded data removed]",
      "text/plain": [
       "<Figure size 720x480 with 1 Axes>"
      ]
     },
     "metadata": {
      "needs_background": "light"
     },
     "output_type": "display_data"
    }
   ],
   "source": [
    "plt.scatter(X_test, y_test,  color='gray')\n",
    "plt.plot(X_test, y_pred, color='red', linewidth=2)\n",
    "plt.show()"
   ]
  },
  {
   "cell_type": "code",
   "execution_count": 28,
   "metadata": {},
   "outputs": [
    {
     "data": {
      "text/plain": [
       "0.7423979162943725"
      ]
     },
     "execution_count": 28,
     "metadata": {},
     "output_type": "execute_result"
    }
   ],
   "source": [
    "regressor2.score(X_test,y_test) # R2 score"
   ]
  },
  {
   "cell_type": "markdown",
   "metadata": {},
   "source": [
    "Noice,"
   ]
  },
  {
   "cell_type": "markdown",
   "metadata": {},
   "source": [
    "Materi ini open source, jadi kalo misal ada yang salah/kurang bolehlah bikin [_PR_](https://github.com/ailabtelkom/SG2020-DataPreparation101/pulls) Atau [_issues_](https://github.com/ailabtelkom/SG2020-DataPreparation101/issues) via [github](https://github.com/ailabtelkom/SG2020-DataPreparation101)\n",
    "\n",
    "Atau masih bingung? bisa chat via line? atau maen lah ke lab wkw :( korona tidak epik"
   ]
  }
 ],
 "metadata": {
  "colab": {
   "collapsed_sections": [],
   "name": "data_exploration.ipynb",
   "provenance": []
  },
  "kernelspec": {
   "display_name": "Python 3",
   "language": "python",
   "name": "python3"
  },
  "language_info": {
   "codemirror_mode": {
    "name": "ipython",
    "version": 3
   },
   "file_extension": ".py",
   "mimetype": "text/x-python",
   "name": "python",
   "nbconvert_exporter": "python",
   "pygments_lexer": "ipython3",
   "version": "3.7.4"
  }
 },
 "nbformat": 4,
 "nbformat_minor": 4
}
